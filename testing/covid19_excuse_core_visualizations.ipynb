{
 "cells": [
  {
   "cell_type": "code",
   "execution_count": 1,
   "metadata": {},
   "outputs": [],
   "source": [
    "import os, sys, numpy, pylab,importlib, pickle, gzip, json, git\n",
    "from covid19_stats.engine import core, gis, viz\n",
    "from covid19_stats import COVID19Database\n",
    "from matplotlib.patches import Polygon\n",
    "from itertools import chain\n",
    "from nprstuff.core import autocrop_image\n",
    "%matplotlib inline"
   ]
  },
  {
   "cell_type": "markdown",
   "metadata": {},
   "source": [
    "The `COVID19Database` singleton object, and the location of the `core` subdirectory for SPHINX docstring documentation."
   ]
  },
  {
   "cell_type": "code",
   "execution_count": 2,
   "metadata": {},
   "outputs": [],
   "source": [
    "cdat = COVID19Database( )\n",
    "static_core_dir = '../docsrc/source/_static/core'\n",
    "assert( os.path.isdir( static_core_dir ))"
   ]
  },
  {
   "cell_type": "markdown",
   "metadata": {},
   "source": [
    "Gets geographical data from the `providence` MSA"
   ]
  },
  {
   "cell_type": "code",
   "execution_count": 3,
   "metadata": {},
   "outputs": [
    {
     "ename": "FileNotFoundError",
     "evalue": "[Errno 2] No such file or directory: '/Users/tanim/work/covid19_stats/covid19_stats/covid-19-data/us-counties.csv'",
     "output_type": "error",
     "traceback": [
      "\u001b[0;31m---------------------------------------------------------------------------\u001b[0m",
      "\u001b[0;31mFileNotFoundError\u001b[0m                         Traceback (most recent call last)",
      "\u001b[0;32m<ipython-input-3-bc02d1fd7209>\u001b[0m in \u001b[0;36m<module>\u001b[0;34m\u001b[0m\n\u001b[0;32m----> 1\u001b[0;31m \u001b[0mcore\u001b[0m\u001b[0;34m.\u001b[0m\u001b[0mget_msa_data\u001b[0m\u001b[0;34m(\u001b[0m \u001b[0;34m'providence'\u001b[0m \u001b[0;34m)\u001b[0m\u001b[0;34m\u001b[0m\u001b[0;34m\u001b[0m\u001b[0m\n\u001b[0m",
      "\u001b[0;32m~/work/covid19_stats/covid19_stats/engine/core.py\u001b[0m in \u001b[0;36mget_msa_data\u001b[0;34m(msaname)\u001b[0m\n\u001b[1;32m     99\u001b[0m     \u001b[0;34m:\u001b[0m\u001b[0mrtype\u001b[0m\u001b[0;34m:\u001b[0m \u001b[0mdict\u001b[0m\u001b[0;34m\u001b[0m\u001b[0;34m\u001b[0m\u001b[0m\n\u001b[1;32m    100\u001b[0m     \"\"\"\n\u001b[0;32m--> 101\u001b[0;31m     \u001b[0mdata_msas_2019\u001b[0m \u001b[0;34m=\u001b[0m \u001b[0mCOVID19Database\u001b[0m\u001b[0;34m.\u001b[0m\u001b[0mdata_msas_2019\u001b[0m\u001b[0;34m(\u001b[0m \u001b[0;34m)\u001b[0m\u001b[0;34m\u001b[0m\u001b[0;34m\u001b[0m\u001b[0m\n\u001b[0m\u001b[1;32m    102\u001b[0m     \u001b[0;32massert\u001b[0m\u001b[0;34m(\u001b[0m \u001b[0mmsaname\u001b[0m \u001b[0;32min\u001b[0m \u001b[0mdata_msas_2019\u001b[0m \u001b[0;34m)\u001b[0m\u001b[0;34m\u001b[0m\u001b[0;34m\u001b[0m\u001b[0m\n\u001b[1;32m    103\u001b[0m     \u001b[0;32mreturn\u001b[0m \u001b[0mdata_msas_2019\u001b[0m\u001b[0;34m[\u001b[0m \u001b[0mmsaname\u001b[0m \u001b[0;34m]\u001b[0m\u001b[0;34m.\u001b[0m\u001b[0mcopy\u001b[0m\u001b[0;34m(\u001b[0m \u001b[0;34m)\u001b[0m\u001b[0;34m\u001b[0m\u001b[0;34m\u001b[0m\u001b[0m\n",
      "\u001b[0;32m~/work/covid19_stats/covid19_stats/__init__.py\u001b[0m in \u001b[0;36mdata_msas_2019\u001b[0;34m(cls)\u001b[0m\n\u001b[1;32m    279\u001b[0m         \u001b[0;34m:\u001b[0m\u001b[0mrtype\u001b[0m\u001b[0;34m:\u001b[0m \u001b[0mdict\u001b[0m\u001b[0;34m\u001b[0m\u001b[0;34m\u001b[0m\u001b[0m\n\u001b[1;32m    280\u001b[0m         \"\"\"\n\u001b[0;32m--> 281\u001b[0;31m         \u001b[0minst\u001b[0m \u001b[0;34m=\u001b[0m \u001b[0mCOVID19Database\u001b[0m\u001b[0;34m.\u001b[0m\u001b[0m_getInstance\u001b[0m\u001b[0;34m(\u001b[0m \u001b[0;34m)\u001b[0m\u001b[0;34m\u001b[0m\u001b[0;34m\u001b[0m\u001b[0m\n\u001b[0m\u001b[1;32m    282\u001b[0m         \u001b[0;32mreturn\u001b[0m \u001b[0minst\u001b[0m\u001b[0;34m.\u001b[0m\u001b[0mdata_msas_2019\u001b[0m\u001b[0;34m\u001b[0m\u001b[0;34m\u001b[0m\u001b[0m\n\u001b[1;32m    283\u001b[0m \u001b[0;34m\u001b[0m\u001b[0m\n",
      "\u001b[0;32m~/work/covid19_stats/covid19_stats/__init__.py\u001b[0m in \u001b[0;36m_getInstance\u001b[0;34m(cls)\u001b[0m\n\u001b[1;32m    234\u001b[0m     \u001b[0;32mdef\u001b[0m \u001b[0m_getInstance\u001b[0m\u001b[0;34m(\u001b[0m \u001b[0mcls\u001b[0m \u001b[0;34m)\u001b[0m\u001b[0;34m:\u001b[0m\u001b[0;34m\u001b[0m\u001b[0;34m\u001b[0m\u001b[0m\n\u001b[1;32m    235\u001b[0m         \u001b[0;32mif\u001b[0m \u001b[0mCOVID19Database\u001b[0m\u001b[0;34m.\u001b[0m\u001b[0m__instance\u001b[0m \u001b[0;34m==\u001b[0m \u001b[0;32mNone\u001b[0m\u001b[0;34m:\u001b[0m\u001b[0;34m\u001b[0m\u001b[0;34m\u001b[0m\u001b[0m\n\u001b[0;32m--> 236\u001b[0;31m             \u001b[0mCOVID19Database\u001b[0m\u001b[0;34m.\u001b[0m\u001b[0m__instance\u001b[0m \u001b[0;34m=\u001b[0m \u001b[0mCOVID19Database\u001b[0m\u001b[0;34m.\u001b[0m\u001b[0m__COVID19Database\u001b[0m\u001b[0;34m(\u001b[0m \u001b[0;34m)\u001b[0m\u001b[0;34m\u001b[0m\u001b[0;34m\u001b[0m\u001b[0m\n\u001b[0m\u001b[1;32m    237\u001b[0m         \u001b[0;32mreturn\u001b[0m \u001b[0mCOVID19Database\u001b[0m\u001b[0;34m.\u001b[0m\u001b[0m__instance\u001b[0m\u001b[0;34m\u001b[0m\u001b[0;34m\u001b[0m\u001b[0m\n\u001b[1;32m    238\u001b[0m \u001b[0;34m\u001b[0m\u001b[0m\n",
      "\u001b[0;32m~/work/covid19_stats/covid19_stats/__init__.py\u001b[0m in \u001b[0;36m__init__\u001b[0;34m(self)\u001b[0m\n\u001b[1;32m    103\u001b[0m                                map(lambda line: line.strip(), filter(\n\u001b[1;32m    104\u001b[0m                                 \u001b[0;32mlambda\u001b[0m \u001b[0mline\u001b[0m\u001b[0;34m:\u001b[0m \u001b[0mlen\u001b[0m\u001b[0;34m(\u001b[0m \u001b[0mline\u001b[0m\u001b[0;34m.\u001b[0m\u001b[0mstrip\u001b[0m\u001b[0;34m(\u001b[0m \u001b[0;34m)\u001b[0m \u001b[0;34m)\u001b[0m \u001b[0;34m!=\u001b[0m \u001b[0;36m0\u001b[0m\u001b[0;34m,\u001b[0m\u001b[0;34m\u001b[0m\u001b[0;34m\u001b[0m\u001b[0m\n\u001b[0;32m--> 105\u001b[0;31m                                 open( os.path.join( covid19ResDir, \"us-counties.csv\" ), \"r\" ).readlines())))[1:])))\n\u001b[0m\u001b[1;32m    106\u001b[0m             self.all_counties_nytimes_covid19_data = pandas.DataFrame(\n\u001b[1;32m    107\u001b[0m                 dict(map(lambda key: ( key, list(map(lambda entry: entry[key], all_counties_nytimes_covid19_data ) ) ),\n",
      "\u001b[0;31mFileNotFoundError\u001b[0m: [Errno 2] No such file or directory: '/Users/tanim/work/covid19_stats/covid19_stats/covid-19-data/us-counties.csv'"
     ]
    }
   ],
   "source": [
    "core.get_msa_data( 'providence' )"
   ]
  },
  {
   "cell_type": "code",
   "execution_count": 4,
   "metadata": {},
   "outputs": [
    {
     "data": {
      "text/plain": [
       "{'prefix': 'bayarea',\n",
       " 'region name': 'Bay Area',\n",
       " 'fips': {'06001',\n",
       "  '06013',\n",
       "  '06041',\n",
       "  '06055',\n",
       "  '06069',\n",
       "  '06075',\n",
       "  '06081',\n",
       "  '06085'},\n",
       " 'population': 6860207}"
      ]
     },
     "execution_count": 4,
     "metadata": {},
     "output_type": "execute_result"
    }
   ],
   "source": [
    "data_bayarea = core.get_msa_data( 'bayarea')\n",
    "data_bayarea"
   ]
  },
  {
   "cell_type": "markdown",
   "metadata": {},
   "source": [
    "Now get latest incident data for `bayarea` MSA"
   ]
  },
  {
   "cell_type": "code",
   "execution_count": 6,
   "metadata": {},
   "outputs": [
    {
     "data": {
      "text/plain": [
       "dict_keys(['df', 'bbox', 'boundaries', 'df_7day', 'df_1day', 'last day', 'prefix', 'region name', 'fips', 'population'])"
      ]
     },
     "execution_count": 6,
     "metadata": {},
     "output_type": "execute_result"
    }
   ],
   "source": [
    "inc_data_bayarea = core.get_incident_data( data_bayarea )\n",
    "inc_data_bayarea.keys()"
   ]
  },
  {
   "cell_type": "code",
   "execution_count": 7,
   "metadata": {},
   "outputs": [
    {
     "data": {
      "text/plain": [
       "421"
      ]
     },
     "execution_count": 7,
     "metadata": {},
     "output_type": "execute_result"
    }
   ],
   "source": [
    "inc_data_bayarea['last day']"
   ]
  },
  {
   "cell_type": "code",
   "execution_count": 8,
   "metadata": {},
   "outputs": [
    {
     "data": {
      "text/plain": [
       "Index(['index', 'date', 'cases_06001', 'deaths_06001', 'cases_06013',\n",
       "       'deaths_06013', 'cases_06041', 'deaths_06041', 'cases_06055',\n",
       "       'deaths_06055', 'cases_06069', 'deaths_06069', 'cases_06075',\n",
       "       'deaths_06075', 'cases_06081', 'deaths_06081', 'cases_06085',\n",
       "       'deaths_06085', 'cases', 'death', 'days_from_beginning'],\n",
       "      dtype='object')"
      ]
     },
     "execution_count": 8,
     "metadata": {},
     "output_type": "execute_result"
    }
   ],
   "source": [
    "inc_data_bayarea['df'].keys()"
   ]
  },
  {
   "cell_type": "code",
   "execution_count": 9,
   "metadata": {},
   "outputs": [
    {
     "data": {
      "text/plain": [
       "0        0\n",
       "1        1\n",
       "2        2\n",
       "3        3\n",
       "4        4\n",
       "      ... \n",
       "417    417\n",
       "418    418\n",
       "419    419\n",
       "420    420\n",
       "421    421\n",
       "Name: days_from_beginning, Length: 422, dtype: int64"
      ]
     },
     "execution_count": 9,
     "metadata": {},
     "output_type": "execute_result"
    }
   ],
   "source": [
    "inc_data_bayarea['df'].days_from_beginning"
   ]
  },
  {
   "cell_type": "code",
   "execution_count": 10,
   "metadata": {},
   "outputs": [
    {
     "data": {
      "text/plain": [
       "{'fips': '06085',\n",
       " 'cases': 114183,\n",
       " 'county': 'Santa Clara County',\n",
       " 'state': 'California'}"
      ]
     },
     "execution_count": 10,
     "metadata": {},
     "output_type": "execute_result"
    }
   ],
   "source": [
    "core.get_max_cases_county( inc_data_bayarea)"
   ]
  },
  {
   "cell_type": "code",
   "execution_count": 11,
   "metadata": {},
   "outputs": [
    {
     "data": {
      "text/plain": [
       "('06085', 114183)"
      ]
     },
     "execution_count": 11,
     "metadata": {},
     "output_type": "execute_result"
    }
   ],
   "source": [
    "core.get_maximum_cases( inc_data_bayarea )"
   ]
  },
  {
   "cell_type": "markdown",
   "metadata": {},
   "source": [
    "Now spit out the `display_tabulated_metros` as a list, for storage into JSON format."
   ]
  },
  {
   "cell_type": "code",
   "execution_count": 14,
   "metadata": {},
   "outputs": [],
   "source": [
    "summary_data = core.display_tabulated_metros( form='json')"
   ]
  },
  {
   "cell_type": "code",
   "execution_count": 15,
   "metadata": {},
   "outputs": [
    {
     "data": {
      "text/plain": [
       "[{'RANK': 1,\n",
       "  'PREFIX': 'nyc',\n",
       "  'NAME': 'NYC Metro Area',\n",
       "  'POPULATION': 19216182,\n",
       "  'FIRST INC.': '01 March 2020',\n",
       "  'NUM DAYS': 391,\n",
       "  'NUM CASES': 2029945,\n",
       "  'NUM DEATHS': 59553,\n",
       "  'MAX CASE COUNTY': 829539,\n",
       "  'MAX CASE COUNTY NAME': 'New York City, New York'},\n",
       " {'RANK': 2,\n",
       "  'PREFIX': 'losangeles',\n",
       "  'NAME': 'LA Metro Area',\n",
       "  'POPULATION': 18711436,\n",
       "  'FIRST INC.': '25 January 2020',\n",
       "  'NUM DAYS': 427,\n",
       "  'NUM CASES': 2147820,\n",
       "  'NUM DEATHS': 37296,\n",
       "  'MAX CASE COUNTY': 1218359,\n",
       "  'MAX CASE COUNTY NAME': 'Los Angeles County, California'}]"
      ]
     },
     "execution_count": 15,
     "metadata": {},
     "output_type": "execute_result"
    }
   ],
   "source": [
    "summary_data[:2]"
   ]
  },
  {
   "cell_type": "code",
   "execution_count": 16,
   "metadata": {},
   "outputs": [],
   "source": [
    "json.dump( summary_data, open( os.path.join( static_core_dir, 'core_summary_data.json'), 'w' ), indent = 1 )"
   ]
  },
  {
   "cell_type": "markdown",
   "metadata": {},
   "source": [
    "I have added in [gitpython](https://gitpython.readthedocs.io/en/stable), and I am checking out if it works!"
   ]
  },
  {
   "cell_type": "code",
   "execution_count": 11,
   "metadata": {},
   "outputs": [],
   "source": [
    "repo_nytimes = git.Repo('/g/g12/islam5/ws-islam5/covid19_stats/covid19_stats/covid-19-data')"
   ]
  },
  {
   "cell_type": "code",
   "execution_count": 9,
   "metadata": {},
   "outputs": [
    {
     "data": {
      "text/plain": [
       "<git.repo.base.Repo '/g/g12/islam5/ws-islam5/covid19_stats/.git/modules/covid19_stats/covid-19-data'>"
      ]
     },
     "execution_count": 9,
     "metadata": {},
     "output_type": "execute_result"
    }
   ],
   "source": [
    "repo_nytimes"
   ]
  },
  {
   "cell_type": "code",
   "execution_count": 27,
   "metadata": {},
   "outputs": [],
   "source": [
    "f = repo_nytimes.remotes[0].pull('master')"
   ]
  },
  {
   "cell_type": "code",
   "execution_count": null,
   "metadata": {},
   "outputs": [],
   "source": []
  }
 ],
 "metadata": {
  "kernelspec": {
   "display_name": "Python 3",
   "language": "python",
   "name": "python3"
  },
  "language_info": {
   "codemirror_mode": {
    "name": "ipython",
    "version": 3
   },
   "file_extension": ".py",
   "mimetype": "text/x-python",
   "name": "python",
   "nbconvert_exporter": "python",
   "pygments_lexer": "ipython3",
   "version": "3.8.5"
  }
 },
 "nbformat": 4,
 "nbformat_minor": 4
}
