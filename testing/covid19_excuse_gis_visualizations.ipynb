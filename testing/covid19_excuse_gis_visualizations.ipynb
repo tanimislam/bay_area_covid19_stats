{
 "cells": [
  {
   "cell_type": "markdown",
   "metadata": {},
   "source": [
    "Here I will do a first batch of visualizations useful for the `covid19_stats.engine.gis` documentation, which lives under [here](https://tanimislam.github.io/covid19_stats/api/api.html#covid19-stats-engine-gis-module).\n",
    "\n",
    "Step \\#1 are the proper imports. I confess I haven't looked at the low-level documentation in a *long long* (over 6 months) time!"
   ]
  },
  {
   "cell_type": "code",
   "execution_count": 43,
   "metadata": {},
   "outputs": [],
   "source": [
    "import os, sys, numpy, pylab,importlib, pickle, gzip\n",
    "from covid19_stats.engine import core, gis, viz\n",
    "from covid19_stats import COVID19Database\n",
    "from matplotlib.patches import Polygon\n",
    "from itertools import chain\n",
    "from nprstuff.core import autocrop_image\n",
    "%matplotlib inline"
   ]
  },
  {
   "cell_type": "markdown",
   "metadata": {},
   "source": [
    "The `COVID19Database` singleton object, and the location of the `gis` subdirectory for SPHINX docstring documentation."
   ]
  },
  {
   "cell_type": "code",
   "execution_count": 37,
   "metadata": {},
   "outputs": [],
   "source": [
    "cdat = COVID19Database( )\n",
    "static_gis_dir = '../docsrc/source/_static/gis'\n",
    "assert( os.path.isdir( static_gis_dir ))"
   ]
  },
  {
   "cell_type": "markdown",
   "metadata": {},
   "source": [
    "Get the [FIPS](https://en.wikipedia.org/wiki/FIPS_county_code) codes for counties in the [Sacramento, CA, MSA](https://en.wikipedia.org/wiki/Sacramento,_California)."
   ]
  },
  {
   "cell_type": "code",
   "execution_count": null,
   "metadata": {},
   "outputs": [],
   "source": [
    "importlib.reload( viz )\n",
    "fips_sacto_ca = cdat.data_msas_2019()['sacramento']['fips']\n",
    "fig = pylab.figure()\n",
    "fig.set_size_inches([18,12])\n",
    "ax = fig.add_subplot(111)\n",
    "m = viz.display_fips( fips_sacto_ca, ax, resolution = 'h',\n",
    "                     drawGrid = False, river_alpha = 0.0, coast_alpha = 0.0 )\n",
    "for patch in ax.patches:\n",
    "    patch.set_alpha( 0.5 )\n",
    "for idx in range(len( ax.texts)):\n",
    "    ax.texts.pop( )\n",
    "ax.set_axis_off( )\n",
    "#\n",
    "## now create the pink boundaries of ALL the FIPS regions here\n",
    "bdict = core.get_boundary_dict( fips_sacto_ca )\n",
    "def create_boundary_for_shape( shapes ):\n",
    "    lng_min, lat_min, lng_max, lat_max = gis.calculate_total_bbox( shapes )\n",
    "    return numpy.array((\n",
    "        (lng_min, lat_min), (lng_max, lat_min), (lng_max, lat_max), (lng_min, lat_max)))\n",
    "#\n",
    "## now create pink boundaries for ALL shapes in the region\n",
    "for coll_of_shapes in bdict.values():\n",
    "    bdry_shape = create_boundary_for_shape( coll_of_shapes )\n",
    "    x, y = m(bdry_shape[:,0], bdry_shape[:,1])\n",
    "    poly = Polygon( numpy.array([ x, y ]).T, closed = True,\n",
    "                   edgecolor = 'red', linewidth = 4.0, linestyle = 'dotted', facecolor = None, alpha = 0.3 )\n",
    "    #\n",
    "    ## because bug in Polygon, facecolor not really set\n",
    "    poly._facecolor = (0,0,0,0.0)\n",
    "    ax.add_patch( poly )\n",
    "#\n",
    "## now the big-ass border\n",
    "big_bdry_shape = create_boundary_for_shape( chain.from_iterable( bdict.values()))\n",
    "x, y = m(big_bdry_shape[:,0], big_bdry_shape[:,1])\n",
    "poly = Polygon( numpy.array([x, y]).T, closed=True, edgecolor = 'seagreen', linewidth = 6.0, linestyle = 'dashed',\n",
    "               alpha = 0.5 )\n",
    "poly._facecolor = (0.0,0,0,0)\n",
    "ax.add_patch( poly )\n",
    "#\n",
    "## now save to static GIS subdirectory, so that can save the image\n",
    "fig.savefig( os.path.join( static_gis_dir, 'gis_calculate_total_bbox_sacramento.png'), bbox_inches = 'tight')\n",
    "autocrop_image.autocrop_image( os.path.join( static_gis_dir, 'gis_calculate_total_bbox_sacramento.png') )\n",
    "#\n",
    "## now push out the demonstration shapes into pkl.gz\n",
    "pickle.dump( list( chain.from_iterable(bdict.values() )),\n",
    "            gzip.open( os.path.join( static_gis_dir, 'gis_calculate_total_bbox_sacramento.pkl.gz' ), 'wb' ) )"
   ]
  },
  {
   "cell_type": "code",
   "execution_count": 42,
   "metadata": {},
   "outputs": [
    {
     "data": {
      "text/plain": [
       "4"
      ]
     },
     "execution_count": 42,
     "metadata": {},
     "output_type": "execute_result"
    }
   ],
   "source": [
    "len( list(chain.from_iterable(bdict.values() )))"
   ]
  },
  {
   "cell_type": "code",
   "execution_count": null,
   "metadata": {},
   "outputs": [],
   "source": []
  }
 ],
 "metadata": {
  "kernelspec": {
   "display_name": "PYTHON38",
   "language": "python",
   "name": "python38-kernel"
  },
  "language_info": {
   "codemirror_mode": {
    "name": "ipython",
    "version": 3
   },
   "file_extension": ".py",
   "mimetype": "text/x-python",
   "name": "python",
   "nbconvert_exporter": "python",
   "pygments_lexer": "ipython3",
   "version": "3.8.2"
  }
 },
 "nbformat": 4,
 "nbformat_minor": 4
}
